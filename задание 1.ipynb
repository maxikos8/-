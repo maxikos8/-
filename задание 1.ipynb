{
  "nbformat": 4,
  "nbformat_minor": 0,
  "metadata": {
    "colab": {
      "name": "Untitled1.ipynb",
      "provenance": []
    },
    "kernelspec": {
      "name": "python3",
      "display_name": "Python 3"
    },
    "language_info": {
      "name": "python"
    }
  },
  "cells": [
    {
      "cell_type": "markdown",
      "metadata": {
        "id": "mJ1CTZvIilhS"
      },
      "source": [
        "1. [Импорт библиотек](#imp)\n",
        "2. [Таблицы](#tbl)\n",
        "3. [Объединение таблиц](#merge)\n",
        "4. [Разделение таблиц на исследуемые группы](#grp)\n",
        "5. [Расчеты метрик](#mtr)\n",
        "6. [Проверка гипотез](#hpt)"
      ]
    },
    {
      "cell_type": "markdown",
      "metadata": {
        "id": "T_kOmiuGWmW7"
      },
      "source": [
        "В ходе тестирования одной гипотезы целевой группе была предложена новая механика оплаты услуг на сайте, у контрольной группы оставалась базовая механика.\n",
        "- группа А - контрольная группа\n",
        "- группа B - целевая группа\n",
        "<br>\n",
        "<br>\n",
        "Цель исследования выявить:\n",
        "<br>\n",
        "- Имеются ли различия в показателях и с чем они могут быть связаны\n",
        "- Являются ли эти различия статистически значимыми\n",
        "- Стоит ли запускать новую механику на всех пользователей"
      ]
    },
    {
      "cell_type": "markdown",
      "metadata": {
        "id": "bE-urAywHBon"
      },
      "source": [
        "# 1. Работа с данными\n",
        "<a id=\"imp\"></a>"
      ]
    },
    {
      "cell_type": "code",
      "metadata": {
        "id": "t1kKLMQKkVv3"
      },
      "source": [
        "#импорт необходимых библиотек\n",
        "import pandas as pd\n",
        "import numpy as np\n",
        "import math\n",
        "from scipy import stats as st\n",
        "import warnings\n",
        "import seaborn as sns\n",
        "warnings.filterwarnings('ignore')\n"
      ],
      "execution_count": 1,
      "outputs": []
    },
    {
      "cell_type": "code",
      "metadata": {
        "id": "T_anxS0L_7z-"
      },
      "source": [
        "#запись исследуемых таблиц в переменные\n",
        "groups= pd.read_csv('https://raw.githubusercontent.com/maxikos8/-/main/groups.csv', sep=';')\n",
        "checks =pd.read_csv('https://raw.githubusercontent.com/maxikos8/-/main/checks.csv', sep=';')\n",
        "active = pd.read_csv('https://raw.githubusercontent.com/maxikos8/-/main/active_studs.csv',sep=';')"
      ],
      "execution_count": 2,
      "outputs": []
    },
    {
      "cell_type": "markdown",
      "metadata": {
        "id": "X_XOjxU_YTp8"
      },
      "source": [
        "- groups : датафрейм с информацией о принадлежности пользователя к контрольной или экспериментальной группе (А – контроль, B – целевая группа)\n",
        "- active : датафрейм с информацией о пользователях, которые зашли на платформу в дни проведения эксперимента.\n",
        "- checks : датафрейм с информацией об оплатах пользователей в дни проведения эксперимента"
      ]
    },
    {
      "cell_type": "code",
      "metadata": {
        "colab": {
          "base_uri": "https://localhost:8080/",
          "height": 359
        },
        "id": "xQ4ZyFVzBeNP",
        "outputId": "ace64d2e-6eca-4ad5-d7d2-ecd965529e38"
      },
      "source": [
        "#изменение названия колонок для удобства\n",
        "groups.columns=['student_id','group']\n",
        "#вывод 10 случайных строк\n",
        "groups.sample(10)"
      ],
      "execution_count": 3,
      "outputs": [
        {
          "output_type": "execute_result",
          "data": {
            "text/html": [
              "<div>\n",
              "<style scoped>\n",
              "    .dataframe tbody tr th:only-of-type {\n",
              "        vertical-align: middle;\n",
              "    }\n",
              "\n",
              "    .dataframe tbody tr th {\n",
              "        vertical-align: top;\n",
              "    }\n",
              "\n",
              "    .dataframe thead th {\n",
              "        text-align: right;\n",
              "    }\n",
              "</style>\n",
              "<table border=\"1\" class=\"dataframe\">\n",
              "  <thead>\n",
              "    <tr style=\"text-align: right;\">\n",
              "      <th></th>\n",
              "      <th>student_id</th>\n",
              "      <th>group</th>\n",
              "    </tr>\n",
              "  </thead>\n",
              "  <tbody>\n",
              "    <tr>\n",
              "      <th>5934</th>\n",
              "      <td>1202898</td>\n",
              "      <td>A</td>\n",
              "    </tr>\n",
              "    <tr>\n",
              "      <th>16828</th>\n",
              "      <td>3620720</td>\n",
              "      <td>A</td>\n",
              "    </tr>\n",
              "    <tr>\n",
              "      <th>11279</th>\n",
              "      <td>192465</td>\n",
              "      <td>B</td>\n",
              "    </tr>\n",
              "    <tr>\n",
              "      <th>19624</th>\n",
              "      <td>2195950</td>\n",
              "      <td>B</td>\n",
              "    </tr>\n",
              "    <tr>\n",
              "      <th>28162</th>\n",
              "      <td>383438</td>\n",
              "      <td>B</td>\n",
              "    </tr>\n",
              "    <tr>\n",
              "      <th>45418</th>\n",
              "      <td>1050359</td>\n",
              "      <td>B</td>\n",
              "    </tr>\n",
              "    <tr>\n",
              "      <th>22446</th>\n",
              "      <td>1148887</td>\n",
              "      <td>B</td>\n",
              "    </tr>\n",
              "    <tr>\n",
              "      <th>20781</th>\n",
              "      <td>173559</td>\n",
              "      <td>B</td>\n",
              "    </tr>\n",
              "    <tr>\n",
              "      <th>6189</th>\n",
              "      <td>1606636</td>\n",
              "      <td>B</td>\n",
              "    </tr>\n",
              "    <tr>\n",
              "      <th>8291</th>\n",
              "      <td>2010662</td>\n",
              "      <td>B</td>\n",
              "    </tr>\n",
              "  </tbody>\n",
              "</table>\n",
              "</div>"
            ],
            "text/plain": [
              "       student_id group\n",
              "5934      1202898     A\n",
              "16828     3620720     A\n",
              "11279      192465     B\n",
              "19624     2195950     B\n",
              "28162      383438     B\n",
              "45418     1050359     B\n",
              "22446     1148887     B\n",
              "20781      173559     B\n",
              "6189      1606636     B\n",
              "8291      2010662     B"
            ]
          },
          "metadata": {
            "tags": []
          },
          "execution_count": 3
        }
      ]
    },
    {
      "cell_type": "markdown",
      "metadata": {
        "id": "cwbVGyO__-uo"
      },
      "source": [
        "<a id=\"tbl\"></a>"
      ]
    },
    {
      "cell_type": "code",
      "metadata": {
        "colab": {
          "base_uri": "https://localhost:8080/"
        },
        "id": "Gh-V8tQSUywn",
        "outputId": "e2f3abc6-9ae6-4911-b138-71108d0d8628"
      },
      "source": [
        "#соотношение исследуемых групп среди всех клиентов\n",
        "groups['group'].value_counts(normalize=True)"
      ],
      "execution_count": 4,
      "outputs": [
        {
          "output_type": "execute_result",
          "data": {
            "text/plain": [
              "B    0.80298\n",
              "A    0.19702\n",
              "Name: group, dtype: float64"
            ]
          },
          "metadata": {
            "tags": []
          },
          "execution_count": 4
        }
      ]
    },
    {
      "cell_type": "code",
      "metadata": {
        "colab": {
          "base_uri": "https://localhost:8080/"
        },
        "id": "M2RZkexOSlN1",
        "outputId": "74bbd27a-9f2f-45d9-99e5-9fd1bbabd6a7"
      },
      "source": [
        "#информация о таблице со всеми клиентами\n",
        "groups.info()"
      ],
      "execution_count": 5,
      "outputs": [
        {
          "output_type": "stream",
          "text": [
            "<class 'pandas.core.frame.DataFrame'>\n",
            "RangeIndex: 74576 entries, 0 to 74575\n",
            "Data columns (total 2 columns):\n",
            " #   Column      Non-Null Count  Dtype \n",
            "---  ------      --------------  ----- \n",
            " 0   student_id  74576 non-null  int64 \n",
            " 1   group       74576 non-null  object\n",
            "dtypes: int64(1), object(1)\n",
            "memory usage: 1.1+ MB\n"
          ],
          "name": "stdout"
        }
      ]
    },
    {
      "cell_type": "code",
      "metadata": {
        "colab": {
          "base_uri": "https://localhost:8080/",
          "height": 359
        },
        "id": "QtcCLvdeEH5I",
        "outputId": "47d81948-e386-455b-bb72-02dbcfc128d3"
      },
      "source": [
        "#вывод 10 случайных строк таблицы\n",
        "checks.sample(10)"
      ],
      "execution_count": 6,
      "outputs": [
        {
          "output_type": "execute_result",
          "data": {
            "text/html": [
              "<div>\n",
              "<style scoped>\n",
              "    .dataframe tbody tr th:only-of-type {\n",
              "        vertical-align: middle;\n",
              "    }\n",
              "\n",
              "    .dataframe tbody tr th {\n",
              "        vertical-align: top;\n",
              "    }\n",
              "\n",
              "    .dataframe thead th {\n",
              "        text-align: right;\n",
              "    }\n",
              "</style>\n",
              "<table border=\"1\" class=\"dataframe\">\n",
              "  <thead>\n",
              "    <tr style=\"text-align: right;\">\n",
              "      <th></th>\n",
              "      <th>student_id</th>\n",
              "      <th>rev</th>\n",
              "    </tr>\n",
              "  </thead>\n",
              "  <tbody>\n",
              "    <tr>\n",
              "      <th>165</th>\n",
              "      <td>1123519</td>\n",
              "      <td>990.0000</td>\n",
              "    </tr>\n",
              "    <tr>\n",
              "      <th>10</th>\n",
              "      <td>150911</td>\n",
              "      <td>290.0000</td>\n",
              "    </tr>\n",
              "    <tr>\n",
              "      <th>188</th>\n",
              "      <td>1346450</td>\n",
              "      <td>580.0000</td>\n",
              "    </tr>\n",
              "    <tr>\n",
              "      <th>411</th>\n",
              "      <td>4038035</td>\n",
              "      <td>199.0000</td>\n",
              "    </tr>\n",
              "    <tr>\n",
              "      <th>59</th>\n",
              "      <td>393127</td>\n",
              "      <td>290.0000</td>\n",
              "    </tr>\n",
              "    <tr>\n",
              "      <th>343</th>\n",
              "      <td>3274600</td>\n",
              "      <td>1900.0001</td>\n",
              "    </tr>\n",
              "    <tr>\n",
              "      <th>501</th>\n",
              "      <td>5211975</td>\n",
              "      <td>290.0000</td>\n",
              "    </tr>\n",
              "    <tr>\n",
              "      <th>276</th>\n",
              "      <td>2633282</td>\n",
              "      <td>199.0000</td>\n",
              "    </tr>\n",
              "    <tr>\n",
              "      <th>175</th>\n",
              "      <td>1220488</td>\n",
              "      <td>1980.0000</td>\n",
              "    </tr>\n",
              "    <tr>\n",
              "      <th>106</th>\n",
              "      <td>521164</td>\n",
              "      <td>1900.0000</td>\n",
              "    </tr>\n",
              "  </tbody>\n",
              "</table>\n",
              "</div>"
            ],
            "text/plain": [
              "     student_id        rev\n",
              "165     1123519   990.0000\n",
              "10       150911   290.0000\n",
              "188     1346450   580.0000\n",
              "411     4038035   199.0000\n",
              "59       393127   290.0000\n",
              "343     3274600  1900.0001\n",
              "501     5211975   290.0000\n",
              "276     2633282   199.0000\n",
              "175     1220488  1980.0000\n",
              "106      521164  1900.0000"
            ]
          },
          "metadata": {
            "tags": []
          },
          "execution_count": 6
        }
      ]
    },
    {
      "cell_type": "code",
      "metadata": {
        "colab": {
          "base_uri": "https://localhost:8080/"
        },
        "id": "PExFVPQKWFqk",
        "outputId": "5723b51f-5a14-4df8-a088-885217369f0c"
      },
      "source": [
        "#просмотр уникальности оплативших клиентов\n",
        "checks['student_id'].nunique()"
      ],
      "execution_count": 7,
      "outputs": [
        {
          "output_type": "execute_result",
          "data": {
            "text/plain": [
              "541"
            ]
          },
          "metadata": {
            "tags": []
          },
          "execution_count": 7
        }
      ]
    },
    {
      "cell_type": "markdown",
      "metadata": {
        "id": "58HHouSPBtHl"
      },
      "source": [
        "Все оплатившие клиенты уникальны, нет клиентов совершиших 2 и более оплаты"
      ]
    },
    {
      "cell_type": "code",
      "metadata": {
        "colab": {
          "base_uri": "https://localhost:8080/"
        },
        "id": "cZar2GMRS2jJ",
        "outputId": "2a887931-5622-441b-a500-75ec4d980e87"
      },
      "source": [
        "#вывод информации о таблице\n",
        "checks.info()"
      ],
      "execution_count": 8,
      "outputs": [
        {
          "output_type": "stream",
          "text": [
            "<class 'pandas.core.frame.DataFrame'>\n",
            "RangeIndex: 541 entries, 0 to 540\n",
            "Data columns (total 2 columns):\n",
            " #   Column      Non-Null Count  Dtype  \n",
            "---  ------      --------------  -----  \n",
            " 0   student_id  541 non-null    int64  \n",
            " 1   rev         541 non-null    float64\n",
            "dtypes: float64(1), int64(1)\n",
            "memory usage: 8.6 KB\n"
          ],
          "name": "stdout"
        }
      ]
    },
    {
      "cell_type": "code",
      "metadata": {
        "colab": {
          "base_uri": "https://localhost:8080/",
          "height": 359
        },
        "id": "UjvHTLJiG1Ov",
        "outputId": "f1afb3a4-b9f2-4b40-aa16-218428dc5987"
      },
      "source": [
        "#вывод 10 случайных строк\n",
        "active.sample(10)"
      ],
      "execution_count": 9,
      "outputs": [
        {
          "output_type": "execute_result",
          "data": {
            "text/html": [
              "<div>\n",
              "<style scoped>\n",
              "    .dataframe tbody tr th:only-of-type {\n",
              "        vertical-align: middle;\n",
              "    }\n",
              "\n",
              "    .dataframe tbody tr th {\n",
              "        vertical-align: top;\n",
              "    }\n",
              "\n",
              "    .dataframe thead th {\n",
              "        text-align: right;\n",
              "    }\n",
              "</style>\n",
              "<table border=\"1\" class=\"dataframe\">\n",
              "  <thead>\n",
              "    <tr style=\"text-align: right;\">\n",
              "      <th></th>\n",
              "      <th>student_id</th>\n",
              "    </tr>\n",
              "  </thead>\n",
              "  <tbody>\n",
              "    <tr>\n",
              "      <th>465</th>\n",
              "      <td>1905242</td>\n",
              "    </tr>\n",
              "    <tr>\n",
              "      <th>8179</th>\n",
              "      <td>4300746</td>\n",
              "    </tr>\n",
              "    <tr>\n",
              "      <th>4152</th>\n",
              "      <td>454461</td>\n",
              "    </tr>\n",
              "    <tr>\n",
              "      <th>8213</th>\n",
              "      <td>4896037</td>\n",
              "    </tr>\n",
              "    <tr>\n",
              "      <th>924</th>\n",
              "      <td>5367353</td>\n",
              "    </tr>\n",
              "    <tr>\n",
              "      <th>832</th>\n",
              "      <td>3235927</td>\n",
              "    </tr>\n",
              "    <tr>\n",
              "      <th>2645</th>\n",
              "      <td>4012069</td>\n",
              "    </tr>\n",
              "    <tr>\n",
              "      <th>2080</th>\n",
              "      <td>1091128</td>\n",
              "    </tr>\n",
              "    <tr>\n",
              "      <th>2563</th>\n",
              "      <td>5502129</td>\n",
              "    </tr>\n",
              "    <tr>\n",
              "      <th>7587</th>\n",
              "      <td>1717249</td>\n",
              "    </tr>\n",
              "  </tbody>\n",
              "</table>\n",
              "</div>"
            ],
            "text/plain": [
              "      student_id\n",
              "465      1905242\n",
              "8179     4300746\n",
              "4152      454461\n",
              "8213     4896037\n",
              "924      5367353\n",
              "832      3235927\n",
              "2645     4012069\n",
              "2080     1091128\n",
              "2563     5502129\n",
              "7587     1717249"
            ]
          },
          "metadata": {
            "tags": []
          },
          "execution_count": 9
        }
      ]
    },
    {
      "cell_type": "code",
      "metadata": {
        "colab": {
          "base_uri": "https://localhost:8080/"
        },
        "id": "q08jPUbCJBVS",
        "outputId": "583207e9-2dc9-4e8c-9cf2-01fbb7e07324"
      },
      "source": [
        "#вывод информации о таблице\n",
        "active.info()"
      ],
      "execution_count": 10,
      "outputs": [
        {
          "output_type": "stream",
          "text": [
            "<class 'pandas.core.frame.DataFrame'>\n",
            "RangeIndex: 8341 entries, 0 to 8340\n",
            "Data columns (total 1 columns):\n",
            " #   Column      Non-Null Count  Dtype\n",
            "---  ------      --------------  -----\n",
            " 0   student_id  8341 non-null   int64\n",
            "dtypes: int64(1)\n",
            "memory usage: 65.3 KB\n"
          ],
          "name": "stdout"
        }
      ]
    },
    {
      "cell_type": "code",
      "metadata": {
        "id": "tuE8vUDOyLFN"
      },
      "source": [
        "#группировка таблиц активных клиентов для обозначения их группы, метод группировки inner\n",
        "active = pd.merge(active,groups,on='student_id')"
      ],
      "execution_count": 11,
      "outputs": []
    },
    {
      "cell_type": "code",
      "metadata": {
        "id": "wEjOcyWeuqK-"
      },
      "source": [
        "#группировка таблиц оплативших клиентов для обозначения их группы, метод группировки inner\n",
        "checks = pd.merge(checks,groups,on='student_id')"
      ],
      "execution_count": 12,
      "outputs": []
    },
    {
      "cell_type": "code",
      "metadata": {
        "id": "w9hLzAUzvdnw"
      },
      "source": [
        "#группировка таблиц активных клиентов и оплативших для создания общего датафрейма, метод группировки inner\n",
        "df = pd.merge(checks,active,on=['student_id','group'],how='outer')"
      ],
      "execution_count": 13,
      "outputs": []
    },
    {
      "cell_type": "code",
      "metadata": {
        "colab": {
          "base_uri": "https://localhost:8080/"
        },
        "id": "ZQRMpLYSvNzb",
        "outputId": "c7317dcd-b6f6-4746-f4a7-15f2bfc2ed00"
      },
      "source": [
        "#вывод информации общей таблицы\n",
        "df.info()"
      ],
      "execution_count": 14,
      "outputs": [
        {
          "output_type": "stream",
          "text": [
            "<class 'pandas.core.frame.DataFrame'>\n",
            "Int64Index: 8490 entries, 0 to 8489\n",
            "Data columns (total 3 columns):\n",
            " #   Column      Non-Null Count  Dtype  \n",
            "---  ------      --------------  -----  \n",
            " 0   student_id  8490 non-null   int64  \n",
            " 1   rev         541 non-null    float64\n",
            " 2   group       8490 non-null   object \n",
            "dtypes: float64(1), int64(1), object(1)\n",
            "memory usage: 265.3+ KB\n"
          ],
          "name": "stdout"
        }
      ]
    },
    {
      "cell_type": "code",
      "metadata": {
        "colab": {
          "base_uri": "https://localhost:8080/"
        },
        "id": "cFxuk6GVUaVc",
        "outputId": "939c9189-bc86-494e-942f-3e979c67be6a"
      },
      "source": [
        "#соотношение групп исследуемых клиентов в общей таблице\n",
        "df['group'].value_counts(normalize=True)"
      ],
      "execution_count": 15,
      "outputs": [
        {
          "output_type": "execute_result",
          "data": {
            "text/plain": [
              "B    0.81543\n",
              "A    0.18457\n",
              "Name: group, dtype: float64"
            ]
          },
          "metadata": {
            "tags": []
          },
          "execution_count": 15
        }
      ]
    },
    {
      "cell_type": "markdown",
      "metadata": {
        "id": "fmcWFbbdC6p1"
      },
      "source": [
        "Соотношение групп исследуемых клиентов  среди активных, имеет незначительное отклонение от общего списка клиентов"
      ]
    },
    {
      "cell_type": "code",
      "metadata": {
        "id": "W1n5OSGKZKhU"
      },
      "source": [
        "#выделим датафрейм с оплатившими клиентами\n",
        "df_rev = df.loc[~df['rev'].isna()]"
      ],
      "execution_count": 16,
      "outputs": []
    },
    {
      "cell_type": "code",
      "metadata": {
        "colab": {
          "base_uri": "https://localhost:8080/"
        },
        "id": "Tf-9NHfqwaqJ",
        "outputId": "916cca5c-fd44-4fc7-fac1-6e41a042c509"
      },
      "source": [
        "#информация о таблице оплативших клиентов\n",
        "df_rev.info()"
      ],
      "execution_count": 17,
      "outputs": [
        {
          "output_type": "stream",
          "text": [
            "<class 'pandas.core.frame.DataFrame'>\n",
            "Int64Index: 541 entries, 0 to 540\n",
            "Data columns (total 3 columns):\n",
            " #   Column      Non-Null Count  Dtype  \n",
            "---  ------      --------------  -----  \n",
            " 0   student_id  541 non-null    int64  \n",
            " 1   rev         541 non-null    float64\n",
            " 2   group       541 non-null    object \n",
            "dtypes: float64(1), int64(1), object(1)\n",
            "memory usage: 16.9+ KB\n"
          ],
          "name": "stdout"
        }
      ]
    },
    {
      "cell_type": "code",
      "metadata": {
        "colab": {
          "base_uri": "https://localhost:8080/",
          "height": 204
        },
        "id": "tgGVzWdywt38",
        "outputId": "3f2a8eb3-84c7-4cf9-ba2e-31e69d258f6e"
      },
      "source": [
        "df_rev.head()"
      ],
      "execution_count": 18,
      "outputs": [
        {
          "output_type": "execute_result",
          "data": {
            "text/html": [
              "<div>\n",
              "<style scoped>\n",
              "    .dataframe tbody tr th:only-of-type {\n",
              "        vertical-align: middle;\n",
              "    }\n",
              "\n",
              "    .dataframe tbody tr th {\n",
              "        vertical-align: top;\n",
              "    }\n",
              "\n",
              "    .dataframe thead th {\n",
              "        text-align: right;\n",
              "    }\n",
              "</style>\n",
              "<table border=\"1\" class=\"dataframe\">\n",
              "  <thead>\n",
              "    <tr style=\"text-align: right;\">\n",
              "      <th></th>\n",
              "      <th>student_id</th>\n",
              "      <th>rev</th>\n",
              "      <th>group</th>\n",
              "    </tr>\n",
              "  </thead>\n",
              "  <tbody>\n",
              "    <tr>\n",
              "      <th>0</th>\n",
              "      <td>1627</td>\n",
              "      <td>990.0</td>\n",
              "      <td>A</td>\n",
              "    </tr>\n",
              "    <tr>\n",
              "      <th>1</th>\n",
              "      <td>3185</td>\n",
              "      <td>690.0</td>\n",
              "      <td>B</td>\n",
              "    </tr>\n",
              "    <tr>\n",
              "      <th>2</th>\n",
              "      <td>25973</td>\n",
              "      <td>690.0</td>\n",
              "      <td>B</td>\n",
              "    </tr>\n",
              "    <tr>\n",
              "      <th>3</th>\n",
              "      <td>26280</td>\n",
              "      <td>690.0</td>\n",
              "      <td>B</td>\n",
              "    </tr>\n",
              "    <tr>\n",
              "      <th>4</th>\n",
              "      <td>100300</td>\n",
              "      <td>990.0</td>\n",
              "      <td>B</td>\n",
              "    </tr>\n",
              "  </tbody>\n",
              "</table>\n",
              "</div>"
            ],
            "text/plain": [
              "   student_id    rev group\n",
              "0        1627  990.0     A\n",
              "1        3185  690.0     B\n",
              "2       25973  690.0     B\n",
              "3       26280  690.0     B\n",
              "4      100300  990.0     B"
            ]
          },
          "metadata": {
            "tags": []
          },
          "execution_count": 18
        }
      ]
    },
    {
      "cell_type": "code",
      "metadata": {
        "colab": {
          "base_uri": "https://localhost:8080/"
        },
        "id": "h7Jvui3c-jb1",
        "outputId": "d4c4d6bb-7312-413a-d3ca-b06d850a57d6"
      },
      "source": [
        "#количество оплативших клиентов из разных групп\n",
        "df_rev['group'].value_counts()"
      ],
      "execution_count": 19,
      "outputs": [
        {
          "output_type": "execute_result",
          "data": {
            "text/plain": [
              "B    434\n",
              "A    107\n",
              "Name: group, dtype: int64"
            ]
          },
          "metadata": {
            "tags": []
          },
          "execution_count": 19
        }
      ]
    },
    {
      "cell_type": "code",
      "metadata": {
        "colab": {
          "base_uri": "https://localhost:8080/"
        },
        "id": "ubsszO2Bw6hG",
        "outputId": "e0d5b0b6-15e5-4d11-d85e-dcfc55e5d58c"
      },
      "source": [
        "#соотношение оплативших клиентов из разных групп\n",
        "df_rev['group'].value_counts(normalize=True)"
      ],
      "execution_count": 20,
      "outputs": [
        {
          "output_type": "execute_result",
          "data": {
            "text/plain": [
              "B    0.802218\n",
              "A    0.197782\n",
              "Name: group, dtype: float64"
            ]
          },
          "metadata": {
            "tags": []
          },
          "execution_count": 20
        }
      ]
    },
    {
      "cell_type": "markdown",
      "metadata": {
        "id": "p9MZkGa5DzcL"
      },
      "source": [
        "Соотношение групп исследуемых клиентов среди оплативших, имеет незначительное отклонение от активного списка клиентов\n",
        "\n"
      ]
    },
    {
      "cell_type": "code",
      "metadata": {
        "id": "qpehxjgYjniA"
      },
      "source": [
        "#разделение общего датафрейма на группы\n",
        "df_a = df.loc[df['group'] == 'A']\n",
        "df_b = df.loc[df['group'] == 'B']"
      ],
      "execution_count": 21,
      "outputs": []
    },
    {
      "cell_type": "code",
      "metadata": {
        "colab": {
          "base_uri": "https://localhost:8080/",
          "height": 391
        },
        "id": "FX5z0rfS5_cy",
        "outputId": "8b5d10fb-43dc-4726-8b47-e56d736754f0"
      },
      "source": [
        "#вывод информации\n",
        "display(df_a.info())\n",
        "df_a.head()\n"
      ],
      "execution_count": 22,
      "outputs": [
        {
          "output_type": "stream",
          "text": [
            "<class 'pandas.core.frame.DataFrame'>\n",
            "Int64Index: 1567 entries, 0 to 8484\n",
            "Data columns (total 3 columns):\n",
            " #   Column      Non-Null Count  Dtype  \n",
            "---  ------      --------------  -----  \n",
            " 0   student_id  1567 non-null   int64  \n",
            " 1   rev         107 non-null    float64\n",
            " 2   group       1567 non-null   object \n",
            "dtypes: float64(1), int64(1), object(1)\n",
            "memory usage: 49.0+ KB\n"
          ],
          "name": "stdout"
        },
        {
          "output_type": "display_data",
          "data": {
            "text/plain": [
              "None"
            ]
          },
          "metadata": {
            "tags": []
          }
        },
        {
          "output_type": "execute_result",
          "data": {
            "text/html": [
              "<div>\n",
              "<style scoped>\n",
              "    .dataframe tbody tr th:only-of-type {\n",
              "        vertical-align: middle;\n",
              "    }\n",
              "\n",
              "    .dataframe tbody tr th {\n",
              "        vertical-align: top;\n",
              "    }\n",
              "\n",
              "    .dataframe thead th {\n",
              "        text-align: right;\n",
              "    }\n",
              "</style>\n",
              "<table border=\"1\" class=\"dataframe\">\n",
              "  <thead>\n",
              "    <tr style=\"text-align: right;\">\n",
              "      <th></th>\n",
              "      <th>student_id</th>\n",
              "      <th>rev</th>\n",
              "      <th>group</th>\n",
              "    </tr>\n",
              "  </thead>\n",
              "  <tbody>\n",
              "    <tr>\n",
              "      <th>0</th>\n",
              "      <td>1627</td>\n",
              "      <td>990.0</td>\n",
              "      <td>A</td>\n",
              "    </tr>\n",
              "    <tr>\n",
              "      <th>9</th>\n",
              "      <td>114366</td>\n",
              "      <td>690.0</td>\n",
              "      <td>A</td>\n",
              "    </tr>\n",
              "    <tr>\n",
              "      <th>16</th>\n",
              "      <td>212994</td>\n",
              "      <td>690.0</td>\n",
              "      <td>A</td>\n",
              "    </tr>\n",
              "    <tr>\n",
              "      <th>17</th>\n",
              "      <td>218393</td>\n",
              "      <td>690.0</td>\n",
              "      <td>A</td>\n",
              "    </tr>\n",
              "    <tr>\n",
              "      <th>18</th>\n",
              "      <td>225541</td>\n",
              "      <td>690.0</td>\n",
              "      <td>A</td>\n",
              "    </tr>\n",
              "  </tbody>\n",
              "</table>\n",
              "</div>"
            ],
            "text/plain": [
              "    student_id    rev group\n",
              "0         1627  990.0     A\n",
              "9       114366  690.0     A\n",
              "16      212994  690.0     A\n",
              "17      218393  690.0     A\n",
              "18      225541  690.0     A"
            ]
          },
          "metadata": {
            "tags": []
          },
          "execution_count": 22
        }
      ]
    },
    {
      "cell_type": "code",
      "metadata": {
        "colab": {
          "base_uri": "https://localhost:8080/",
          "height": 391
        },
        "id": "HEx3Gz5b6GmX",
        "outputId": "455c8cbd-25a5-4f7f-a842-e656929e8bfe"
      },
      "source": [
        "#вывод информации\n",
        "display(df_b.info())\n",
        "df_b.head()"
      ],
      "execution_count": 23,
      "outputs": [
        {
          "output_type": "stream",
          "text": [
            "<class 'pandas.core.frame.DataFrame'>\n",
            "Int64Index: 6923 entries, 1 to 8489\n",
            "Data columns (total 3 columns):\n",
            " #   Column      Non-Null Count  Dtype  \n",
            "---  ------      --------------  -----  \n",
            " 0   student_id  6923 non-null   int64  \n",
            " 1   rev         434 non-null    float64\n",
            " 2   group       6923 non-null   object \n",
            "dtypes: float64(1), int64(1), object(1)\n",
            "memory usage: 216.3+ KB\n"
          ],
          "name": "stdout"
        },
        {
          "output_type": "display_data",
          "data": {
            "text/plain": [
              "None"
            ]
          },
          "metadata": {
            "tags": []
          }
        },
        {
          "output_type": "execute_result",
          "data": {
            "text/html": [
              "<div>\n",
              "<style scoped>\n",
              "    .dataframe tbody tr th:only-of-type {\n",
              "        vertical-align: middle;\n",
              "    }\n",
              "\n",
              "    .dataframe tbody tr th {\n",
              "        vertical-align: top;\n",
              "    }\n",
              "\n",
              "    .dataframe thead th {\n",
              "        text-align: right;\n",
              "    }\n",
              "</style>\n",
              "<table border=\"1\" class=\"dataframe\">\n",
              "  <thead>\n",
              "    <tr style=\"text-align: right;\">\n",
              "      <th></th>\n",
              "      <th>student_id</th>\n",
              "      <th>rev</th>\n",
              "      <th>group</th>\n",
              "    </tr>\n",
              "  </thead>\n",
              "  <tbody>\n",
              "    <tr>\n",
              "      <th>1</th>\n",
              "      <td>3185</td>\n",
              "      <td>690.0</td>\n",
              "      <td>B</td>\n",
              "    </tr>\n",
              "    <tr>\n",
              "      <th>2</th>\n",
              "      <td>25973</td>\n",
              "      <td>690.0</td>\n",
              "      <td>B</td>\n",
              "    </tr>\n",
              "    <tr>\n",
              "      <th>3</th>\n",
              "      <td>26280</td>\n",
              "      <td>690.0</td>\n",
              "      <td>B</td>\n",
              "    </tr>\n",
              "    <tr>\n",
              "      <th>4</th>\n",
              "      <td>100300</td>\n",
              "      <td>990.0</td>\n",
              "      <td>B</td>\n",
              "    </tr>\n",
              "    <tr>\n",
              "      <th>5</th>\n",
              "      <td>100645</td>\n",
              "      <td>630.0</td>\n",
              "      <td>B</td>\n",
              "    </tr>\n",
              "  </tbody>\n",
              "</table>\n",
              "</div>"
            ],
            "text/plain": [
              "   student_id    rev group\n",
              "1        3185  690.0     B\n",
              "2       25973  690.0     B\n",
              "3       26280  690.0     B\n",
              "4      100300  990.0     B\n",
              "5      100645  630.0     B"
            ]
          },
          "metadata": {
            "tags": []
          },
          "execution_count": 23
        }
      ]
    },
    {
      "cell_type": "code",
      "metadata": {
        "id": "xLx2-KCijryw"
      },
      "source": [
        "#разделение датафрейма оплативших на группы\n",
        "df_rev_a = df_rev.query('group == \"A\"')\n",
        "df_rev_b = df_rev.query('group == \"B\"')"
      ],
      "execution_count": 24,
      "outputs": []
    },
    {
      "cell_type": "code",
      "metadata": {
        "colab": {
          "base_uri": "https://localhost:8080/"
        },
        "id": "Gtqq7z005qQk",
        "outputId": "1cf62aad-cce9-4642-a290-98f23c9fb81c"
      },
      "source": [
        "#вывод информации по сумме оплате \n",
        "df_rev_a['rev'].describe()"
      ],
      "execution_count": 25,
      "outputs": [
        {
          "output_type": "execute_result",
          "data": {
            "text/plain": [
              "count     107.000000\n",
              "mean      860.710280\n",
              "std       815.893445\n",
              "min       199.000000\n",
              "25%       290.000000\n",
              "50%       690.000000\n",
              "75%       990.000000\n",
              "max      3660.000000\n",
              "Name: rev, dtype: float64"
            ]
          },
          "metadata": {
            "tags": []
          },
          "execution_count": 25
        }
      ]
    },
    {
      "cell_type": "code",
      "metadata": {
        "colab": {
          "base_uri": "https://localhost:8080/"
        },
        "id": "UyFz0Tbz5wUp",
        "outputId": "6c270cf6-1c6f-4154-c9ef-696de6f73933"
      },
      "source": [
        "#вывод информации по сумме оплате \n",
        "df_rev_b['rev'].describe()"
      ],
      "execution_count": 26,
      "outputs": [
        {
          "output_type": "execute_result",
          "data": {
            "text/plain": [
              "count     434.000000\n",
              "mean     1108.824893\n",
              "std       741.834304\n",
              "min       199.000000\n",
              "25%       420.750000\n",
              "50%       935.000000\n",
              "75%      1900.000000\n",
              "max      4650.000000\n",
              "Name: rev, dtype: float64"
            ]
          },
          "metadata": {
            "tags": []
          },
          "execution_count": 26
        }
      ]
    },
    {
      "cell_type": "code",
      "metadata": {
        "colab": {
          "base_uri": "https://localhost:8080/",
          "height": 296
        },
        "id": "8rbpDWSCEqqo",
        "outputId": "34175720-10ee-48d4-8259-f4f3db24007b"
      },
      "source": [
        "#постройка графика ящика с усами\n",
        "sns.boxplot(x=df_rev['rev'], y= df_rev['group'])"
      ],
      "execution_count": 27,
      "outputs": [
        {
          "output_type": "execute_result",
          "data": {
            "text/plain": [
              "<matplotlib.axes._subplots.AxesSubplot at 0x7fd4dcfd7310>"
            ]
          },
          "metadata": {
            "tags": []
          },
          "execution_count": 27
        },
        {
          "output_type": "display_data",
          "data": {
            "image/png": "[encoded data removed]",
            "text/plain": [
              "<Figure size 432x288 with 1 Axes>"
            ]
          },
          "metadata": {
            "tags": [],
            "needs_background": "light"
          }
        }
      ]
    },
    {
      "cell_type": "markdown",
      "metadata": {
        "id": "TM6RAgW3F-bO"
      },
      "source": [
        "Есть значения за пределами 3 квартиля, но для исследования их лучше оставить, возможно влияние количества таких покупок зависит от введения новой системы оплаты\n",
        "\n",
        "---\n",
        "\n"
      ]
    },
    {
      "cell_type": "code",
      "metadata": {
        "colab": {
          "base_uri": "https://localhost:8080/"
        },
        "id": "3H-cr3bb3r82",
        "outputId": "7665e11f-fe99-47f8-c594-8f9f86e69f29"
      },
      "source": [
        "active_checks = pd.merge(active,checks,on='student_id', how='outer')\n",
        "no_active_checs = active_checks.loc[active_checks['group_x'].isna()]\n",
        "len(no_active_checs['student_id'].unique())"
      ],
      "execution_count": 28,
      "outputs": [
        {
          "output_type": "execute_result",
          "data": {
            "text/plain": [
              "149"
            ]
          },
          "metadata": {
            "tags": []
          },
          "execution_count": 28
        }
      ]
    },
    {
      "cell_type": "markdown",
      "metadata": {
        "id": "ORMF4CZSHmAF"
      },
      "source": [
        "Есть несостыковка в данных таблицы активных клиентов в период исследования и клентов совершивших оплату в данный период на 149 id. Возможно есть необходимость проверить систему регистрации активности клиентов, либо есть нюансы в системе оплаты. В дальнейшем проведение расчета метрик проводились в двух форматах. Т.е. 1 -  это клиенты совершившие оплату считались соответсвенно активными. 2 - эти клиенты не входили в категорию активных при расчете метрик. При проверке гипотез брался 1 вариант расчета."
      ]
    },
    {
      "cell_type": "code",
      "metadata": {
        "colab": {
          "base_uri": "https://localhost:8080/",
          "height": 419
        },
        "id": "LXueVcYc8Mbp",
        "outputId": "ffe7eee1-97db-4064-b295-8b59b87c55e2"
      },
      "source": [
        "#айди не попавшие в список активных\n",
        "no_active_checs"
      ],
      "execution_count": 29,
      "outputs": [
        {
          "output_type": "execute_result",
          "data": {
            "text/html": [
              "<div>\n",
              "<style scoped>\n",
              "    .dataframe tbody tr th:only-of-type {\n",
              "        vertical-align: middle;\n",
              "    }\n",
              "\n",
              "    .dataframe tbody tr th {\n",
              "        vertical-align: top;\n",
              "    }\n",
              "\n",
              "    .dataframe thead th {\n",
              "        text-align: right;\n",
              "    }\n",
              "</style>\n",
              "<table border=\"1\" class=\"dataframe\">\n",
              "  <thead>\n",
              "    <tr style=\"text-align: right;\">\n",
              "      <th></th>\n",
              "      <th>student_id</th>\n",
              "      <th>group_x</th>\n",
              "      <th>rev</th>\n",
              "      <th>group_y</th>\n",
              "    </tr>\n",
              "  </thead>\n",
              "  <tbody>\n",
              "    <tr>\n",
              "      <th>8341</th>\n",
              "      <td>3185</td>\n",
              "      <td>NaN</td>\n",
              "      <td>690.0</td>\n",
              "      <td>B</td>\n",
              "    </tr>\n",
              "    <tr>\n",
              "      <th>8342</th>\n",
              "      <td>25973</td>\n",
              "      <td>NaN</td>\n",
              "      <td>690.0</td>\n",
              "      <td>B</td>\n",
              "    </tr>\n",
              "    <tr>\n",
              "      <th>8343</th>\n",
              "      <td>26280</td>\n",
              "      <td>NaN</td>\n",
              "      <td>690.0</td>\n",
              "      <td>B</td>\n",
              "    </tr>\n",
              "    <tr>\n",
              "      <th>8344</th>\n",
              "      <td>100645</td>\n",
              "      <td>NaN</td>\n",
              "      <td>630.0</td>\n",
              "      <td>B</td>\n",
              "    </tr>\n",
              "    <tr>\n",
              "      <th>8345</th>\n",
              "      <td>102534</td>\n",
              "      <td>NaN</td>\n",
              "      <td>580.0</td>\n",
              "      <td>B</td>\n",
              "    </tr>\n",
              "    <tr>\n",
              "      <th>...</th>\n",
              "      <td>...</td>\n",
              "      <td>...</td>\n",
              "      <td>...</td>\n",
              "      <td>...</td>\n",
              "    </tr>\n",
              "    <tr>\n",
              "      <th>8485</th>\n",
              "      <td>5291900</td>\n",
              "      <td>NaN</td>\n",
              "      <td>199.0</td>\n",
              "      <td>B</td>\n",
              "    </tr>\n",
              "    <tr>\n",
              "      <th>8486</th>\n",
              "      <td>5331842</td>\n",
              "      <td>NaN</td>\n",
              "      <td>290.0</td>\n",
              "      <td>B</td>\n",
              "    </tr>\n",
              "    <tr>\n",
              "      <th>8487</th>\n",
              "      <td>5486319</td>\n",
              "      <td>NaN</td>\n",
              "      <td>199.0</td>\n",
              "      <td>B</td>\n",
              "    </tr>\n",
              "    <tr>\n",
              "      <th>8488</th>\n",
              "      <td>5562806</td>\n",
              "      <td>NaN</td>\n",
              "      <td>398.0</td>\n",
              "      <td>B</td>\n",
              "    </tr>\n",
              "    <tr>\n",
              "      <th>8489</th>\n",
              "      <td>5599663</td>\n",
              "      <td>NaN</td>\n",
              "      <td>1900.0</td>\n",
              "      <td>B</td>\n",
              "    </tr>\n",
              "  </tbody>\n",
              "</table>\n",
              "<p>149 rows × 4 columns</p>\n",
              "</div>"
            ],
            "text/plain": [
              "      student_id group_x     rev group_y\n",
              "8341        3185     NaN   690.0       B\n",
              "8342       25973     NaN   690.0       B\n",
              "8343       26280     NaN   690.0       B\n",
              "8344      100645     NaN   630.0       B\n",
              "8345      102534     NaN   580.0       B\n",
              "...          ...     ...     ...     ...\n",
              "8485     5291900     NaN   199.0       B\n",
              "8486     5331842     NaN   290.0       B\n",
              "8487     5486319     NaN   199.0       B\n",
              "8488     5562806     NaN   398.0       B\n",
              "8489     5599663     NaN  1900.0       B\n",
              "\n",
              "[149 rows x 4 columns]"
            ]
          },
          "metadata": {
            "tags": []
          },
          "execution_count": 29
        }
      ]
    },
    {
      "cell_type": "code",
      "metadata": {
        "colab": {
          "base_uri": "https://localhost:8080/",
          "height": 623
        },
        "id": "hgAMEDMm8IG4",
        "outputId": "cdcf72ce-6509-40eb-8ddf-86778ed53948"
      },
      "source": [
        "#создание датафрейма с клиентами только из списка активных\n",
        "only_active_pay = active_checks.loc[~active_checks['group_x'].isna()]\n",
        "display(only_active_pay.info())\n",
        "only_active_pay"
      ],
      "execution_count": 30,
      "outputs": [
        {
          "output_type": "stream",
          "text": [
            "<class 'pandas.core.frame.DataFrame'>\n",
            "Int64Index: 8341 entries, 0 to 8340\n",
            "Data columns (total 4 columns):\n",
            " #   Column      Non-Null Count  Dtype  \n",
            "---  ------      --------------  -----  \n",
            " 0   student_id  8341 non-null   int64  \n",
            " 1   group_x     8341 non-null   object \n",
            " 2   rev         392 non-null    float64\n",
            " 3   group_y     392 non-null    object \n",
            "dtypes: float64(1), int64(1), object(2)\n",
            "memory usage: 325.8+ KB\n"
          ],
          "name": "stdout"
        },
        {
          "output_type": "display_data",
          "data": {
            "text/plain": [
              "None"
            ]
          },
          "metadata": {
            "tags": []
          }
        },
        {
          "output_type": "execute_result",
          "data": {
            "text/html": [
              "<div>\n",
              "<style scoped>\n",
              "    .dataframe tbody tr th:only-of-type {\n",
              "        vertical-align: middle;\n",
              "    }\n",
              "\n",
              "    .dataframe tbody tr th {\n",
              "        vertical-align: top;\n",
              "    }\n",
              "\n",
              "    .dataframe thead th {\n",
              "        text-align: right;\n",
              "    }\n",
              "</style>\n",
              "<table border=\"1\" class=\"dataframe\">\n",
              "  <thead>\n",
              "    <tr style=\"text-align: right;\">\n",
              "      <th></th>\n",
              "      <th>student_id</th>\n",
              "      <th>group_x</th>\n",
              "      <th>rev</th>\n",
              "      <th>group_y</th>\n",
              "    </tr>\n",
              "  </thead>\n",
              "  <tbody>\n",
              "    <tr>\n",
              "      <th>0</th>\n",
              "      <td>581585</td>\n",
              "      <td>A</td>\n",
              "      <td>NaN</td>\n",
              "      <td>NaN</td>\n",
              "    </tr>\n",
              "    <tr>\n",
              "      <th>1</th>\n",
              "      <td>5723133</td>\n",
              "      <td>A</td>\n",
              "      <td>NaN</td>\n",
              "      <td>NaN</td>\n",
              "    </tr>\n",
              "    <tr>\n",
              "      <th>2</th>\n",
              "      <td>3276743</td>\n",
              "      <td>B</td>\n",
              "      <td>NaN</td>\n",
              "      <td>NaN</td>\n",
              "    </tr>\n",
              "    <tr>\n",
              "      <th>3</th>\n",
              "      <td>4238589</td>\n",
              "      <td>A</td>\n",
              "      <td>NaN</td>\n",
              "      <td>NaN</td>\n",
              "    </tr>\n",
              "    <tr>\n",
              "      <th>4</th>\n",
              "      <td>4475369</td>\n",
              "      <td>B</td>\n",
              "      <td>NaN</td>\n",
              "      <td>NaN</td>\n",
              "    </tr>\n",
              "    <tr>\n",
              "      <th>...</th>\n",
              "      <td>...</td>\n",
              "      <td>...</td>\n",
              "      <td>...</td>\n",
              "      <td>...</td>\n",
              "    </tr>\n",
              "    <tr>\n",
              "      <th>8336</th>\n",
              "      <td>1794344</td>\n",
              "      <td>B</td>\n",
              "      <td>NaN</td>\n",
              "      <td>NaN</td>\n",
              "    </tr>\n",
              "    <tr>\n",
              "      <th>8337</th>\n",
              "      <td>296883</td>\n",
              "      <td>B</td>\n",
              "      <td>NaN</td>\n",
              "      <td>NaN</td>\n",
              "    </tr>\n",
              "    <tr>\n",
              "      <th>8338</th>\n",
              "      <td>3598448</td>\n",
              "      <td>B</td>\n",
              "      <td>NaN</td>\n",
              "      <td>NaN</td>\n",
              "    </tr>\n",
              "    <tr>\n",
              "      <th>8339</th>\n",
              "      <td>3610547</td>\n",
              "      <td>B</td>\n",
              "      <td>290.0</td>\n",
              "      <td>B</td>\n",
              "    </tr>\n",
              "    <tr>\n",
              "      <th>8340</th>\n",
              "      <td>205705</td>\n",
              "      <td>B</td>\n",
              "      <td>NaN</td>\n",
              "      <td>NaN</td>\n",
              "    </tr>\n",
              "  </tbody>\n",
              "</table>\n",
              "<p>8341 rows × 4 columns</p>\n",
              "</div>"
            ],
            "text/plain": [
              "      student_id group_x    rev group_y\n",
              "0         581585       A    NaN     NaN\n",
              "1        5723133       A    NaN     NaN\n",
              "2        3276743       B    NaN     NaN\n",
              "3        4238589       A    NaN     NaN\n",
              "4        4475369       B    NaN     NaN\n",
              "...          ...     ...    ...     ...\n",
              "8336     1794344       B    NaN     NaN\n",
              "8337      296883       B    NaN     NaN\n",
              "8338     3598448       B    NaN     NaN\n",
              "8339     3610547       B  290.0       B\n",
              "8340      205705       B    NaN     NaN\n",
              "\n",
              "[8341 rows x 4 columns]"
            ]
          },
          "metadata": {
            "tags": []
          },
          "execution_count": 30
        }
      ]
    },
    {
      "cell_type": "code",
      "metadata": {
        "id": "Ipn0U86r_pFC"
      },
      "source": [
        "#разделение на группы\n",
        "only_active_pay_a = only_active_pay.query('group_x == \"A\"')\n",
        "only_active_pay_b = only_active_pay.query('group_x == \"B\"')"
      ],
      "execution_count": 31,
      "outputs": []
    },
    {
      "cell_type": "code",
      "metadata": {
        "colab": {
          "base_uri": "https://localhost:8080/",
          "height": 391
        },
        "id": "XnZ2l8fT_07N",
        "outputId": "4033bdaf-dacc-4c93-d9b1-a8e3852a375b"
      },
      "source": [
        "#выведение информации о таблицах\n",
        "display(only_active_pay_a.head())\n",
        "only_active_pay_b.head()"
      ],
      "execution_count": 32,
      "outputs": [
        {
          "output_type": "display_data",
          "data": {
            "text/html": [
              "<div>\n",
              "<style scoped>\n",
              "    .dataframe tbody tr th:only-of-type {\n",
              "        vertical-align: middle;\n",
              "    }\n",
              "\n",
              "    .dataframe tbody tr th {\n",
              "        vertical-align: top;\n",
              "    }\n",
              "\n",
              "    .dataframe thead th {\n",
              "        text-align: right;\n",
              "    }\n",
              "</style>\n",
              "<table border=\"1\" class=\"dataframe\">\n",
              "  <thead>\n",
              "    <tr style=\"text-align: right;\">\n",
              "      <th></th>\n",
              "      <th>student_id</th>\n",
              "      <th>group_x</th>\n",
              "      <th>rev</th>\n",
              "      <th>group_y</th>\n",
              "    </tr>\n",
              "  </thead>\n",
              "  <tbody>\n",
              "    <tr>\n",
              "      <th>0</th>\n",
              "      <td>581585</td>\n",
              "      <td>A</td>\n",
              "      <td>NaN</td>\n",
              "      <td>NaN</td>\n",
              "    </tr>\n",
              "    <tr>\n",
              "      <th>1</th>\n",
              "      <td>5723133</td>\n",
              "      <td>A</td>\n",
              "      <td>NaN</td>\n",
              "      <td>NaN</td>\n",
              "    </tr>\n",
              "    <tr>\n",
              "      <th>3</th>\n",
              "      <td>4238589</td>\n",
              "      <td>A</td>\n",
              "      <td>NaN</td>\n",
              "      <td>NaN</td>\n",
              "    </tr>\n",
              "    <tr>\n",
              "      <th>7</th>\n",
              "      <td>1394612</td>\n",
              "      <td>A</td>\n",
              "      <td>NaN</td>\n",
              "      <td>NaN</td>\n",
              "    </tr>\n",
              "    <tr>\n",
              "      <th>21</th>\n",
              "      <td>5194768</td>\n",
              "      <td>A</td>\n",
              "      <td>NaN</td>\n",
              "      <td>NaN</td>\n",
              "    </tr>\n",
              "  </tbody>\n",
              "</table>\n",
              "</div>"
            ],
            "text/plain": [
              "    student_id group_x  rev group_y\n",
              "0       581585       A  NaN     NaN\n",
              "1      5723133       A  NaN     NaN\n",
              "3      4238589       A  NaN     NaN\n",
              "7      1394612       A  NaN     NaN\n",
              "21     5194768       A  NaN     NaN"
            ]
          },
          "metadata": {
            "tags": []
          }
        },
        {
          "output_type": "execute_result",
          "data": {
            "text/html": [
              "<div>\n",
              "<style scoped>\n",
              "    .dataframe tbody tr th:only-of-type {\n",
              "        vertical-align: middle;\n",
              "    }\n",
              "\n",
              "    .dataframe tbody tr th {\n",
              "        vertical-align: top;\n",
              "    }\n",
              "\n",
              "    .dataframe thead th {\n",
              "        text-align: right;\n",
              "    }\n",
              "</style>\n",
              "<table border=\"1\" class=\"dataframe\">\n",
              "  <thead>\n",
              "    <tr style=\"text-align: right;\">\n",
              "      <th></th>\n",
              "      <th>student_id</th>\n",
              "      <th>group_x</th>\n",
              "      <th>rev</th>\n",
              "      <th>group_y</th>\n",
              "    </tr>\n",
              "  </thead>\n",
              "  <tbody>\n",
              "    <tr>\n",
              "      <th>2</th>\n",
              "      <td>3276743</td>\n",
              "      <td>B</td>\n",
              "      <td>NaN</td>\n",
              "      <td>NaN</td>\n",
              "    </tr>\n",
              "    <tr>\n",
              "      <th>4</th>\n",
              "      <td>4475369</td>\n",
              "      <td>B</td>\n",
              "      <td>NaN</td>\n",
              "      <td>NaN</td>\n",
              "    </tr>\n",
              "    <tr>\n",
              "      <th>5</th>\n",
              "      <td>5481015</td>\n",
              "      <td>B</td>\n",
              "      <td>NaN</td>\n",
              "      <td>NaN</td>\n",
              "    </tr>\n",
              "    <tr>\n",
              "      <th>6</th>\n",
              "      <td>1353433</td>\n",
              "      <td>B</td>\n",
              "      <td>NaN</td>\n",
              "      <td>NaN</td>\n",
              "    </tr>\n",
              "    <tr>\n",
              "      <th>8</th>\n",
              "      <td>1170611</td>\n",
              "      <td>B</td>\n",
              "      <td>NaN</td>\n",
              "      <td>NaN</td>\n",
              "    </tr>\n",
              "  </tbody>\n",
              "</table>\n",
              "</div>"
            ],
            "text/plain": [
              "   student_id group_x  rev group_y\n",
              "2     3276743       B  NaN     NaN\n",
              "4     4475369       B  NaN     NaN\n",
              "5     5481015       B  NaN     NaN\n",
              "6     1353433       B  NaN     NaN\n",
              "8     1170611       B  NaN     NaN"
            ]
          },
          "metadata": {
            "tags": []
          },
          "execution_count": 32
        }
      ]
    },
    {
      "cell_type": "markdown",
      "metadata": {
        "id": "Rrp2j4FJiNtZ"
      },
      "source": [
        "# 2. Расчета метрик"
      ]
    },
    {
      "cell_type": "markdown",
      "metadata": {
        "id": "AGKtTq7cE3ar"
      },
      "source": [
        "**Конверсия** из активных в оплатившие"
      ]
    },
    {
      "cell_type": "code",
      "metadata": {
        "id": "pTLBOToQE2yN"
      },
      "source": [
        "#функция для подсчета конверсии\n",
        "def convers(series1,series2):\n",
        "  conv = series1.count() / series2.count() *100\n",
        "  return conv"
      ],
      "execution_count": 33,
      "outputs": []
    },
    {
      "cell_type": "code",
      "metadata": {
        "colab": {
          "base_uri": "https://localhost:8080/",
          "height": 53
        },
        "id": "K12X0OcW67dJ",
        "outputId": "3b853b15-7bc2-4006-c733-c77ef3f40f06"
      },
      "source": [
        "display(f\"Конверсия общего количества активных и платящих пользователей {convers(df['rev'],df['student_id']).round(2)} %\")\n",
        "display(f\"Конверсия общего количества активных пользователей {convers(only_active_pay['rev'],only_active_pay['student_id']).round(2)} %\")\n"
      ],
      "execution_count": 34,
      "outputs": [
        {
          "output_type": "display_data",
          "data": {
            "application/vnd.google.colaboratory.intrinsic+json": {
              "type": "string"
            },
            "text/plain": [
              "'Конверсия общего количества активных и платящих пользователей 6.37 %'"
            ]
          },
          "metadata": {
            "tags": []
          }
        },
        {
          "output_type": "display_data",
          "data": {
            "application/vnd.google.colaboratory.intrinsic+json": {
              "type": "string"
            },
            "text/plain": [
              "'Конверсия общего количества активных пользователей 4.7 %'"
            ]
          },
          "metadata": {
            "tags": []
          }
        }
      ]
    },
    {
      "cell_type": "code",
      "metadata": {
        "colab": {
          "base_uri": "https://localhost:8080/",
          "height": 53
        },
        "id": "XUl0aghO9myy",
        "outputId": "231a84f4-32c7-4b42-ee14-a502da595863"
      },
      "source": [
        "display(f\"Конверсия общего количества активных и платящих пользователей группы А {convers(df_a['rev'],df_a['student_id']).round(2)} %\")\n",
        "display(f\"Конверсия общего количества активных пользователей группы А {convers(only_active_pay_a['rev'],only_active_pay_a['student_id']).round(2)} %\")"
      ],
      "execution_count": 35,
      "outputs": [
        {
          "output_type": "display_data",
          "data": {
            "application/vnd.google.colaboratory.intrinsic+json": {
              "type": "string"
            },
            "text/plain": [
              "'Конверсия общего количества активных и платящих пользователей группы А 6.83 %'"
            ]
          },
          "metadata": {
            "tags": []
          }
        },
        {
          "output_type": "display_data",
          "data": {
            "application/vnd.google.colaboratory.intrinsic+json": {
              "type": "string"
            },
            "text/plain": [
              "'Конверсия общего количества активных пользователей группы А 5.07 %'"
            ]
          },
          "metadata": {
            "tags": []
          }
        }
      ]
    },
    {
      "cell_type": "code",
      "metadata": {
        "colab": {
          "base_uri": "https://localhost:8080/",
          "height": 53
        },
        "id": "IXhyJQ7dAVmm",
        "outputId": "b4e2ffe3-de22-4ac6-e406-8e0bdc189fc0"
      },
      "source": [
        "display(f\"Конверсия общего количества активных и платящих пользователей группы B {convers(df_b['rev'],df_b['student_id']).round(2)} %\")\n",
        "display(f\"Конверсия общего количества активных пользователей группы B {convers(only_active_pay_b['rev'],only_active_pay_b['student_id']).round(2)} %\")"
      ],
      "execution_count": 36,
      "outputs": [
        {
          "output_type": "display_data",
          "data": {
            "application/vnd.google.colaboratory.intrinsic+json": {
              "type": "string"
            },
            "text/plain": [
              "'Конверсия общего количества активных и платящих пользователей группы B 6.27 %'"
            ]
          },
          "metadata": {
            "tags": []
          }
        },
        {
          "output_type": "display_data",
          "data": {
            "application/vnd.google.colaboratory.intrinsic+json": {
              "type": "string"
            },
            "text/plain": [
              "'Конверсия общего количества активных пользователей группы B 4.62 %'"
            ]
          },
          "metadata": {
            "tags": []
          }
        }
      ]
    },
    {
      "cell_type": "markdown",
      "metadata": {
        "id": "Xe9FUxwWCEU1"
      },
      "source": [
        "**ARPAU(средний доход, который получаем от каждого активного пользователя)**"
      ]
    },
    {
      "cell_type": "code",
      "metadata": {
        "id": "28BImFQuDHzr"
      },
      "source": [
        "#функция для расчета ARPAU\n",
        "def arpu(series1,df):\n",
        "  arpu_metric = series1.sum() / df.shape[0]\n",
        "  return arpu_metric\n"
      ],
      "execution_count": 37,
      "outputs": []
    },
    {
      "cell_type": "code",
      "metadata": {
        "colab": {
          "base_uri": "https://localhost:8080/",
          "height": 53
        },
        "id": "TNBZvZiGD_0S",
        "outputId": "1e3559f7-12a6-4131-e715-e1692e5bd8b0"
      },
      "source": [
        "display(f\"ARPAU общего количества активных и платящих пользователей {arpu(df['rev'],df).round(2)} руб.\")\n",
        "display(f\"ARPAU общего количества активных пользователей {arpu(only_active_pay['rev'],only_active_pay).round(2)} руб.\")\n"
      ],
      "execution_count": 38,
      "outputs": [
        {
          "output_type": "display_data",
          "data": {
            "application/vnd.google.colaboratory.intrinsic+json": {
              "type": "string"
            },
            "text/plain": [
              "'ARPAU общего количества активных и платящих пользователей 67.53 руб.'"
            ]
          },
          "metadata": {
            "tags": []
          }
        },
        {
          "output_type": "display_data",
          "data": {
            "application/vnd.google.colaboratory.intrinsic+json": {
              "type": "string"
            },
            "text/plain": [
              "'ARPAU общего количества активных пользователей 56.08 руб.'"
            ]
          },
          "metadata": {
            "tags": []
          }
        }
      ]
    },
    {
      "cell_type": "code",
      "metadata": {
        "colab": {
          "base_uri": "https://localhost:8080/",
          "height": 53
        },
        "id": "s5Rgr0MbGsch",
        "outputId": "3ec686e2-1422-4b8a-c1b4-934e74e5420d"
      },
      "source": [
        "display(f\"ARPAU общего количества активных и платящих пользователей группы А {arpu(df_a['rev'],df_a).round(2)} руб.\")\n",
        "display(f\"ARPAU общего количества активных пользователей группы А {arpu(only_active_pay_a['rev'],only_active_pay_a).round(2)} руб.\")\n"
      ],
      "execution_count": 39,
      "outputs": [
        {
          "output_type": "display_data",
          "data": {
            "application/vnd.google.colaboratory.intrinsic+json": {
              "type": "string"
            },
            "text/plain": [
              "'ARPAU общего количества активных и платящих пользователей группы А 58.77 руб.'"
            ]
          },
          "metadata": {
            "tags": []
          }
        },
        {
          "output_type": "display_data",
          "data": {
            "application/vnd.google.colaboratory.intrinsic+json": {
              "type": "string"
            },
            "text/plain": [
              "'ARPAU общего количества активных пользователей группы А 47.35 руб.'"
            ]
          },
          "metadata": {
            "tags": []
          }
        }
      ]
    },
    {
      "cell_type": "code",
      "metadata": {
        "colab": {
          "base_uri": "https://localhost:8080/",
          "height": 53
        },
        "id": "K3KtQ63sG1yW",
        "outputId": "c9c257d6-a8ce-4771-83a3-1ac920d1f005"
      },
      "source": [
        "display(f\"ARPAU общего количества активных и платящих пользователей группы B {arpu(df_b['rev'],df_b).round(2)} руб.\")\n",
        "display(f\"ARPAU общего количества активных пользователей группы B {arpu(only_active_pay_b['rev'],only_active_pay_b).round(2)} руб.\")"
      ],
      "execution_count": 40,
      "outputs": [
        {
          "output_type": "display_data",
          "data": {
            "application/vnd.google.colaboratory.intrinsic+json": {
              "type": "string"
            },
            "text/plain": [
              "'ARPAU общего количества активных и платящих пользователей группы B 69.51 руб.'"
            ]
          },
          "metadata": {
            "tags": []
          }
        },
        {
          "output_type": "display_data",
          "data": {
            "application/vnd.google.colaboratory.intrinsic+json": {
              "type": "string"
            },
            "text/plain": [
              "'ARPAU общего количества активных пользователей группы B 58.06 руб.'"
            ]
          },
          "metadata": {
            "tags": []
          }
        }
      ]
    },
    {
      "cell_type": "markdown",
      "metadata": {
        "id": "jROfgsALASQd"
      },
      "source": [
        "**ARPPU(средний доход получаемы от каждого платящего клиента за этот период)**"
      ]
    },
    {
      "cell_type": "code",
      "metadata": {
        "colab": {
          "base_uri": "https://localhost:8080/",
          "height": 71
        },
        "id": "asotFw_iBbjh",
        "outputId": "689e82d6-662e-4aed-b255-dfaaf13d8240"
      },
      "source": [
        "display(f\"Средний доход от каждого платящего клиента {df_rev['rev'].mean()}\")\n",
        "display(f\"Средний доход от каждого платящего клиента группы А {df_rev_a['rev'].mean()}\")\n",
        "display(f\"Средний доход от каждого платящего клиента группы B {df_rev_b['rev'].mean()}\")"
      ],
      "execution_count": 41,
      "outputs": [
        {
          "output_type": "display_data",
          "data": {
            "application/vnd.google.colaboratory.intrinsic+json": {
              "type": "string"
            },
            "text/plain": [
              "'Средний доход от каждого платящего клиента 1059.7523171903883'"
            ]
          },
          "metadata": {
            "tags": []
          }
        },
        {
          "output_type": "display_data",
          "data": {
            "application/vnd.google.colaboratory.intrinsic+json": {
              "type": "string"
            },
            "text/plain": [
              "'Средний доход от каждого платящего клиента группы А 860.7102803738318'"
            ]
          },
          "metadata": {
            "tags": []
          }
        },
        {
          "output_type": "display_data",
          "data": {
            "application/vnd.google.colaboratory.intrinsic+json": {
              "type": "string"
            },
            "text/plain": [
              "'Средний доход от каждого платящего клиента группы B 1108.824893087558'"
            ]
          },
          "metadata": {
            "tags": []
          }
        }
      ]
    },
    {
      "cell_type": "code",
      "metadata": {
        "colab": {
          "base_uri": "https://localhost:8080/",
          "height": 173
        },
        "id": "ZguY4-SNHflo",
        "outputId": "84492f18-3514-4b3a-e5c9-44df65a0de77"
      },
      "source": [
        "#средняя доход от каждой группы клиентов в исследуемый период\n",
        "df_rev.groupby('group').agg({'rev':['sum','mean']})"
      ],
      "execution_count": 42,
      "outputs": [
        {
          "output_type": "execute_result",
          "data": {
            "text/html": [
              "<div>\n",
              "<style scoped>\n",
              "    .dataframe tbody tr th:only-of-type {\n",
              "        vertical-align: middle;\n",
              "    }\n",
              "\n",
              "    .dataframe tbody tr th {\n",
              "        vertical-align: top;\n",
              "    }\n",
              "\n",
              "    .dataframe thead tr th {\n",
              "        text-align: left;\n",
              "    }\n",
              "\n",
              "    .dataframe thead tr:last-of-type th {\n",
              "        text-align: right;\n",
              "    }\n",
              "</style>\n",
              "<table border=\"1\" class=\"dataframe\">\n",
              "  <thead>\n",
              "    <tr>\n",
              "      <th></th>\n",
              "      <th colspan=\"2\" halign=\"left\">rev</th>\n",
              "    </tr>\n",
              "    <tr>\n",
              "      <th></th>\n",
              "      <th>sum</th>\n",
              "      <th>mean</th>\n",
              "    </tr>\n",
              "    <tr>\n",
              "      <th>group</th>\n",
              "      <th></th>\n",
              "      <th></th>\n",
              "    </tr>\n",
              "  </thead>\n",
              "  <tbody>\n",
              "    <tr>\n",
              "      <th>A</th>\n",
              "      <td>92096.0000</td>\n",
              "      <td>860.710280</td>\n",
              "    </tr>\n",
              "    <tr>\n",
              "      <th>B</th>\n",
              "      <td>481230.0036</td>\n",
              "      <td>1108.824893</td>\n",
              "    </tr>\n",
              "  </tbody>\n",
              "</table>\n",
              "</div>"
            ],
            "text/plain": [
              "               rev             \n",
              "               sum         mean\n",
              "group                          \n",
              "A       92096.0000   860.710280\n",
              "B      481230.0036  1108.824893"
            ]
          },
          "metadata": {
            "tags": []
          },
          "execution_count": 42
        }
      ]
    },
    {
      "cell_type": "markdown",
      "metadata": {
        "id": "VOUSvFfLCmzE"
      },
      "source": [
        "**Paying share(это ARPAU / ARPPu - Доля платящих пользователей)**"
      ]
    },
    {
      "cell_type": "code",
      "metadata": {
        "colab": {
          "base_uri": "https://localhost:8080/",
          "height": 71
        },
        "id": "32ps7aPeCnee",
        "outputId": "345bc3e0-610b-4fc1-c983-c93e0d4c5487"
      },
      "source": [
        "display(f\"Общая доля платящих клиентов {(df['rev'].sum() / df.shape[0]) / df_rev['rev'].mean() * 100}\")\n",
        "display(f\"Общая доля платящих клиентов группы А {(df_a['rev'].sum() / df_a.shape[0]) / df_rev['rev'].mean() * 100}\")\n",
        "display(f\"Общая доля платящих клиентов группы B {(df_b['rev'].sum() / df_b.shape[0]) / df_rev['rev'].mean() * 100}\")"
      ],
      "execution_count": 43,
      "outputs": [
        {
          "output_type": "display_data",
          "data": {
            "application/vnd.google.colaboratory.intrinsic+json": {
              "type": "string"
            },
            "text/plain": [
              "'Общая доля платящих клиентов 6.3722025912838625'"
            ]
          },
          "metadata": {
            "tags": []
          }
        },
        {
          "output_type": "display_data",
          "data": {
            "application/vnd.google.colaboratory.intrinsic+json": {
              "type": "string"
            },
            "text/plain": [
              "'Общая доля платящих клиентов группы А 5.545840776131002'"
            ]
          },
          "metadata": {
            "tags": []
          }
        },
        {
          "output_type": "display_data",
          "data": {
            "application/vnd.google.colaboratory.intrinsic+json": {
              "type": "string"
            },
            "text/plain": [
              "'Общая доля платящих клиентов группы B 6.559247075516786'"
            ]
          },
          "metadata": {
            "tags": []
          }
        }
      ]
    },
    {
      "cell_type": "markdown",
      "metadata": {
        "id": "OXqCVvEaJ8cF"
      },
      "source": [
        "Из рассмотренных метрик можно сделать следующий выводы:\n",
        "- В исследуемом периоде конверсия группы А выше, чем конверсия группы B, как в рассматриваемых данных , где все оплатившие входят в группу активных, так и в изначальной группе активных. Статистическую значимость данной разницы проверим в гипотезах.\n",
        "- Средний доход полученный с активного клиента в исследуемый период выше в группе B на 15,5 %\n",
        "- Средний доход полученный с оплатившего клиента в исследуемый период выше в группе B на 22,4 %\n",
        "- Общая доля платящих клиентов в группе B выше на 1%."
      ]
    },
    {
      "cell_type": "markdown",
      "metadata": {
        "id": "gv8PEmGPHSEo"
      },
      "source": [
        "# 3. Проверка гипотез"
      ]
    },
    {
      "cell_type": "markdown",
      "metadata": {
        "id": "Em26i6ZNWMQS"
      },
      "source": [
        "### 3.1 Средняя выручка пользователей группы B отличается от средней выручки группы А"
      ]
    },
    {
      "cell_type": "code",
      "metadata": {
        "colab": {
          "base_uri": "https://localhost:8080/",
          "height": 35
        },
        "id": "WKOdg86CLIu6",
        "outputId": "86f408b1-bdba-46ba-8b45-6880e89c7c19"
      },
      "source": [
        "f\"Средняя выручка группы B выше средней выручки группы B на {round(df_rev_b['rev'].mean() - df_rev_a['rev'].mean(),2)} руб., {abs(round(df_rev_a['rev'].mean()/ df_rev_b['rev'].mean()*100-100,2))} %\""
      ],
      "execution_count": 44,
      "outputs": [
        {
          "output_type": "execute_result",
          "data": {
            "application/vnd.google.colaboratory.intrinsic+json": {
              "type": "string"
            },
            "text/plain": [
              "'Средняя выручка группы B выше средней выручки группы B на 248.11 руб., 22.38 %'"
            ]
          },
          "metadata": {
            "tags": []
          },
          "execution_count": 44
        }
      ]
    },
    {
      "cell_type": "markdown",
      "metadata": {
        "id": "DDqumRhAKGIh"
      },
      "source": [
        "H0 средняя выручка пользователей группы B не отличается от средней выручки пользователей группы A<br>\n",
        "H1 средняя выручка пользователей группы B отличается от средней выручки пользователей группы A"
      ]
    },
    {
      "cell_type": "code",
      "metadata": {
        "colab": {
          "base_uri": "https://localhost:8080/"
        },
        "id": "zog73Jj4Zewd",
        "outputId": "a56cb6c9-bf84-49dd-a616-22c185bfc42d"
      },
      "source": [
        "#проверка различия дисперсий\n",
        "df_rev_a['rev'].var()/df_rev_b['rev'].var()"
      ],
      "execution_count": 45,
      "outputs": [
        {
          "output_type": "execute_result",
          "data": {
            "text/plain": [
              "1.2096314317751442"
            ]
          },
          "metadata": {
            "tags": []
          },
          "execution_count": 45
        }
      ]
    },
    {
      "cell_type": "markdown",
      "metadata": {
        "id": "lHgHfIuVh1di"
      },
      "source": [
        "Для проверки гипотез применим U-тест Манна-Уитни."
      ]
    },
    {
      "cell_type": "code",
      "metadata": {
        "id": "z0NJt0svZpj1"
      },
      "source": [
        "#функция для проведения теста\n",
        "def mn(series1,series2,alpha=0.05): # критический уровень статистической значимости 5%\n",
        "  result = st.mannwhitneyu(series1,series2)\n",
        "  print('p-значение:', result.pvalue)\n",
        "\n",
        "  if (result.pvalue < alpha):\n",
        "      print(\"Отвергаем нулевую гипотезу\")\n",
        "  else:\n",
        "      print(\"Не получилось отвергнуть нулевую гипотезу\")  "
      ],
      "execution_count": 46,
      "outputs": []
    },
    {
      "cell_type": "code",
      "metadata": {
        "colab": {
          "base_uri": "https://localhost:8080/"
        },
        "id": "LVLGdlg7cG_1",
        "outputId": "697ccecb-769e-40f2-d5a4-0d058b762321"
      },
      "source": [
        "#запуск функции теста\n",
        "mn(df_rev_a['rev'],df_rev_b['rev'])"
      ],
      "execution_count": 47,
      "outputs": [
        {
          "output_type": "stream",
          "text": [
            "p-значение: 9.658027498190076e-05\n",
            "Отвергаем нулевую гипотезу\n"
          ],
          "name": "stdout"
        }
      ]
    },
    {
      "cell_type": "code",
      "metadata": {
        "colab": {
          "base_uri": "https://localhost:8080/"
        },
        "id": "rgYGsfq0hUgv",
        "outputId": "cd0182a7-5897-407d-edc3-b36ac666541f"
      },
      "source": [
        "#запуск функции теста\n",
        "mn(df_rev_a['rev'],df_rev_b['rev'],alpha=0.01)# критический уровень статистической значимости 1%"
      ],
      "execution_count": 48,
      "outputs": [
        {
          "output_type": "stream",
          "text": [
            "p-значение: 9.658027498190076e-05\n",
            "Отвергаем нулевую гипотезу\n"
          ],
          "name": "stdout"
        }
      ]
    },
    {
      "cell_type": "markdown",
      "metadata": {
        "id": "j0Vtv6dS3Nka"
      },
      "source": [
        "### 3.2 Конверсия пользователей группы B отличается от конверсии группы А"
      ]
    },
    {
      "cell_type": "code",
      "metadata": {
        "id": "N3CQLvD53Lf7"
      },
      "source": [
        "#сделаем ноывй датафрейм для проведения теста\n",
        "df_for_test = df.fillna(0)# заменим пропущенные значения на 0 для дальнейшей категоризации"
      ],
      "execution_count": 49,
      "outputs": []
    },
    {
      "cell_type": "code",
      "metadata": {
        "id": "2z2Tanhh4SKi"
      },
      "source": [
        "#функция для присвоения категорий\n",
        "def category(rev):\n",
        "  if rev > 0:\n",
        "    return 1\n",
        "  return 0\n",
        "df_for_test['cat'] = df_for_test['rev'].apply(category)"
      ],
      "execution_count": 50,
      "outputs": []
    },
    {
      "cell_type": "code",
      "metadata": {
        "id": "mQwixWgW7GP_"
      },
      "source": [
        "#разделение датафрейма по группам\n",
        "df_for_test_a = df_for_test.query('group == \"A\"')\n",
        "df_for_test_b = df_for_test.query('group == \"B\"')"
      ],
      "execution_count": 51,
      "outputs": []
    },
    {
      "cell_type": "markdown",
      "metadata": {
        "id": "Jk4yHd1d-KW0"
      },
      "source": [
        "H0 Конверсия группы B не отличается от конверсии пользователей группы A <br>\n",
        "H1 Конверсия пользователей группы B отличается от конверсии пользователей группы A"
      ]
    },
    {
      "cell_type": "code",
      "metadata": {
        "colab": {
          "base_uri": "https://localhost:8080/"
        },
        "id": "1eXG-1-q8C6F",
        "outputId": "5da75ace-4394-4e74-ded5-ccab246e710f"
      },
      "source": [
        "#запуск функции теста\n",
        "mn(df_for_test_a['cat'],df_for_test_b['cat'])# критический уровень статистической значимости 5%"
      ],
      "execution_count": 52,
      "outputs": [
        {
          "output_type": "stream",
          "text": [
            "p-значение: 0.20651816228128556\n",
            "Не получилось отвергнуть нулевую гипотезу\n"
          ],
          "name": "stdout"
        }
      ]
    },
    {
      "cell_type": "markdown",
      "metadata": {
        "id": "wggoskwgYr8L"
      },
      "source": [
        "# Вывод"
      ]
    },
    {
      "cell_type": "markdown",
      "metadata": {
        "id": "oMdcl3xYYvP-"
      },
      "source": [
        "Было проведено тестирование новой механики оплаты услуг на сайте. Для этих целей клиенты были разделены на две группы: группа А - клиенты пользующиеся старой механикой оплаты и группа B - клиенты, которые предоставили для использования новую механику оплаты.\n",
        "<br>\n",
        "Исходя из совокупности полученных данных, были исследованы метрики: конверсия активных клиентов перешедших в покупку, средний доход от одного активного пользователя, средний доход от одного платящего пользователя, доля платящих пользователей.\n",
        "Были выявлены различия в показателях между исследуемыми группами в конверсии и среднего дохода от клиентов.\n",
        "- В исследуемом периоде конверсия группы А выше, чем конверсия группы B, как в рассматриваемых данных , где все оплатившие входят в группу активных, так и в изначальной группе активных. Статистическую значимость данной разницы проверим в гипотезах.\n",
        "- Средний доход полученный с активного клиента в исследуемый период выше в группе B на 15,5 %\n",
        "- Средний доход полученный с оплатившего клиента в исследуемый период выше в группе B на 22,4 %\n",
        "- Общая доля платящих клиентов в группе B выше на 1%.\n",
        "<br>\n",
        "Исходя из выявленных различий были проведены статистические тесты для проверки гипотез, которые выявили:\n",
        "- средняя выручка пользователей группы B отличается от средней выручки пользователей группы A, следовательно полученная разница является результатов использования новой механики оплаты на сайте\n",
        "- не смогли отвергнуть гипотезу, что конверсия группы А при переходе от активного клиента к оплате выше , чем конверсия группы B, следовательно с большей долей вероятности данный результат мог был получен случайно\n",
        "<br>\n",
        "По результату проведенного исследования можно сказать, что выявлена явная зависимость роста среднего дохода полученного от клиента при  использовании новой механики оплаты. Данную механику стоит запускать на всех пользователей."
      ]
    }
  ]
}